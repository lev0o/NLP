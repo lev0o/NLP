{
 "cells": [
  {
   "cell_type": "code",
   "execution_count": 1,
   "metadata": {},
   "outputs": [],
   "source": [
    "import pandas as pd"
   ]
  },
  {
   "cell_type": "code",
   "execution_count": 10,
   "metadata": {},
   "outputs": [
    {
     "name": "stdout",
     "output_type": "stream",
     "text": [
      "                                                text  \\\n",
      "0        [i`d, have, responded,, if, i, were, going]   \n",
      "1  [sooo, sad, i, will, miss, you, here, in, san,...   \n",
      "2                    [my, boss, is, bullying, me...]   \n",
      "3               [what, interview!, leave, me, alone]   \n",
      "4  [sons, of, ****,, why, couldn`t, they, put, th...   \n",
      "\n",
      "                                 selected_text   sentiment  \n",
      "0  [i`d, have, responded,, if, i, were, going]   [neutral]  \n",
      "1                                  [sooo, sad]  [negative]  \n",
      "2                               [bullying, me]  [negative]  \n",
      "3                           [leave, me, alone]  [negative]  \n",
      "4                            [sons, of, ****,]  [negative]  \n"
     ]
    }
   ],
   "source": [
    "df = pd.read_csv('../data/Tweets.csv', usecols=['text', 'selected_text', 'sentiment'])\n",
    "pd.set_option('display.max_columns', None)\n",
    "\n",
    "for col in df.columns:\n",
    "    df[col] = df[col].str.lower().str.strip().str.split(' ')\n",
    "\n",
    "print(df.head())"
   ]
  },
  {
   "cell_type": "code",
   "execution_count": null,
   "metadata": {},
   "outputs": [],
   "source": []
  }
 ],
 "metadata": {
  "kernelspec": {
   "display_name": "Python 3.10.6 ('NLP-hTDfIa0V')",
   "language": "python",
   "name": "python3"
  },
  "language_info": {
   "codemirror_mode": {
    "name": "ipython",
    "version": 3
   },
   "file_extension": ".py",
   "mimetype": "text/x-python",
   "name": "python",
   "nbconvert_exporter": "python",
   "pygments_lexer": "ipython3",
   "version": "3.10.6"
  },
  "orig_nbformat": 4,
  "vscode": {
   "interpreter": {
    "hash": "c21cce740be0e5f54291ad651fa60de7ba7d806e461ec4e5ece97a1576291509"
   }
  }
 },
 "nbformat": 4,
 "nbformat_minor": 2
}
