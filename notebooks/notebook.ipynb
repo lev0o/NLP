{
 "cells": [
  {
   "cell_type": "code",
   "execution_count": 35,
   "metadata": {},
   "outputs": [],
   "source": [
    "import pandas as pd"
   ]
  },
  {
   "cell_type": "code",
   "execution_count": 36,
   "metadata": {},
   "outputs": [
    {
     "name": "stdout",
     "output_type": "stream",
     "text": [
      "                                                text  \\\n",
      "0        [i`d, have, responded,, if, i, were, going]   \n",
      "1  [sooo, sad, i, will, miss, you, here, in, san,...   \n",
      "2                    [my, boss, is, bullying, me...]   \n",
      "3               [what, interview!, leave, me, alone]   \n",
      "4  [sons, of, ****,, why, couldn`t, they, put, th...   \n",
      "\n",
      "                                 selected_text   sentiment  \n",
      "0  [i`d, have, responded,, if, i, were, going]   [neutral]  \n",
      "1                                  [sooo, sad]  [negative]  \n",
      "2                               [bullying, me]  [negative]  \n",
      "3                           [leave, me, alone]  [negative]  \n",
      "4                            [sons, of, ****,]  [negative]  \n"
     ]
    }
   ],
   "source": [
    "df = pd.read_csv('../data/Tweets.csv', usecols=['text', 'selected_text', 'sentiment'])\n",
    "pd.set_option('display.max_columns', None)\n",
    "\n",
    "for col in df.columns:\n",
    "    df[col] = df[col].str.lower().str.strip().str.split(' ')\n",
    "\n",
    "print(df.head())"
   ]
  },
  {
   "cell_type": "code",
   "execution_count": 98,
   "metadata": {},
   "outputs": [],
   "source": [
    "from sklearn.feature_extraction.text import CountVectorizer\n",
    "from sklearn.model_selection import train_test_split"
   ]
  },
  {
   "cell_type": "code",
   "execution_count": 38,
   "metadata": {},
   "outputs": [
    {
     "name": "stdout",
     "output_type": "stream",
     "text": [
      "text             0\n",
      "selected_text    0\n",
      "sentiment        0\n",
      "dtype: int64\n"
     ]
    }
   ],
   "source": [
    "df = df.drop(df[df['selected_text'].isna()].index.tolist())\n",
    "print(df.isna().sum())"
   ]
  },
  {
   "cell_type": "code",
   "execution_count": 74,
   "metadata": {},
   "outputs": [
    {
     "data": {
      "text/plain": [
       "(16488, 5496, 5496, 27480)"
      ]
     },
     "execution_count": 74,
     "metadata": {},
     "output_type": "execute_result"
    }
   ],
   "source": [
    "df_fulltrain, df_test = train_test_split(df[['selected_text', 'sentiment']], test_size=0.2, random_state=1)\n",
    "df_train, df_val = train_test_split(df_fulltrain, test_size=0.25, random_state=1)\n",
    "\n",
    "len(df_train), len(df_val), len(df_test), len(df)"
   ]
  },
  {
   "cell_type": "code",
   "execution_count": 75,
   "metadata": {},
   "outputs": [
    {
     "data": {
      "text/plain": [
       "((16488, 2), (5496, 2), (5496, 2))"
      ]
     },
     "execution_count": 75,
     "metadata": {},
     "output_type": "execute_result"
    }
   ],
   "source": [
    "df_train.shape, df_val.shape, df_test.shape"
   ]
  },
  {
   "cell_type": "code",
   "execution_count": 76,
   "metadata": {},
   "outputs": [
    {
     "data": {
      "text/plain": [
       "Index(['selected_text', 'sentiment'], dtype='object')"
      ]
     },
     "execution_count": 76,
     "metadata": {},
     "output_type": "execute_result"
    }
   ],
   "source": [
    "df_train.columns"
   ]
  },
  {
   "cell_type": "code",
   "execution_count": 77,
   "metadata": {},
   "outputs": [],
   "source": [
    "y_train = df_train.sentiment.values\n",
    "y_val = df_val.sentiment.values\n",
    "y_test = df_test.sentiment.values\n",
    "\n",
    "del df_train['sentiment']\n",
    "del df_val['sentiment']\n",
    "del df_test['sentiment']"
   ]
  },
  {
   "cell_type": "code",
   "execution_count": 78,
   "metadata": {},
   "outputs": [
    {
     "data": {
      "text/plain": [
       "[neutral]     11117\n",
       "[positive]     8582\n",
       "[negative]     7781\n",
       "Name: sentiment, dtype: int64"
      ]
     },
     "execution_count": 78,
     "metadata": {},
     "output_type": "execute_result"
    }
   ],
   "source": [
    "df.sentiment.value_counts()"
   ]
  },
  {
   "cell_type": "code",
   "execution_count": null,
   "metadata": {},
   "outputs": [],
   "source": []
  }
 ],
 "metadata": {
  "kernelspec": {
   "display_name": "Python 3.10.6 ('NLP-hTDfIa0V')",
   "language": "python",
   "name": "python3"
  },
  "language_info": {
   "codemirror_mode": {
    "name": "ipython",
    "version": 3
   },
   "file_extension": ".py",
   "mimetype": "text/x-python",
   "name": "python",
   "nbconvert_exporter": "python",
   "pygments_lexer": "ipython3",
   "version": "3.10.6"
  },
  "orig_nbformat": 4,
  "vscode": {
   "interpreter": {
    "hash": "c21cce740be0e5f54291ad651fa60de7ba7d806e461ec4e5ece97a1576291509"
   }
  }
 },
 "nbformat": 4,
 "nbformat_minor": 2
}
